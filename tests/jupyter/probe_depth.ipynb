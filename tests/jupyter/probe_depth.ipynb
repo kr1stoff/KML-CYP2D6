{
 "cells": [
  {
   "cell_type": "code",
   "execution_count": 10,
   "id": "4d0bb8ef",
   "metadata": {},
   "outputs": [],
   "source": [
    "import pandas as pd\n",
    "from functools import reduce\n",
    "from functools import partial"
   ]
  },
  {
   "cell_type": "code",
   "execution_count": 11,
   "id": "fd5c5ce1",
   "metadata": {},
   "outputs": [],
   "source": [
    "dfs = []\n",
    "for i in range(1, 4):\n",
    "    samp = f'V{i}2'\n",
    "    bedcov = f'/data/mengxf/Project/KML250707-cyp2d6-igtk/work/250707-3samples-anlysis/{samp}/{samp}.sorted.bam.bedcov'\n",
    "    df = pd.read_table(bedcov, header=None, names=['chr', 'start', 'end', 'gene', f'{samp}-base-count', f'{samp}-read-count']).fillna('-')\n",
    "    dfs.append(df)"
   ]
  },
  {
   "cell_type": "code",
   "execution_count": 14,
   "id": "698508a4",
   "metadata": {},
   "outputs": [],
   "source": [
    "func_pd_merge = partial(pd.merge, how='outer', on=['chr', 'start', 'end', 'gene'])\n",
    "df = reduce(func_pd_merge, dfs)\n",
    "df.to_excel('probe.depth.xlsx', index=False)"
   ]
  }
 ],
 "metadata": {
  "kernelspec": {
   "display_name": "python3.12",
   "language": "python",
   "name": "python3"
  },
  "language_info": {
   "codemirror_mode": {
    "name": "ipython",
    "version": 3
   },
   "file_extension": ".py",
   "mimetype": "text/x-python",
   "name": "python",
   "nbconvert_exporter": "python",
   "pygments_lexer": "ipython3",
   "version": "3.12.2"
  }
 },
 "nbformat": 4,
 "nbformat_minor": 5
}
