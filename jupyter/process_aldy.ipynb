{
 "cells": [
  {
   "cell_type": "code",
   "execution_count": 128,
   "id": "060d04fe",
   "metadata": {},
   "outputs": [],
   "source": [
    "import pandas as pd\n",
    "import json\n",
    "from openpyxl import Workbook"
   ]
  },
  {
   "cell_type": "code",
   "execution_count": 129,
   "id": "ecedec96",
   "metadata": {},
   "outputs": [],
   "source": [
    "# genotype-rsid 参考\n",
    "with open('/data/mengxf/Project/KML250707-cyp2d6-igtk/database/genotype-rsid-dict.json') as f:\n",
    "    genotype_rsid_dict = json.load(f)\n",
    "# genotype_rsid_dict"
   ]
  },
  {
   "cell_type": "code",
   "execution_count": 130,
   "id": "d0e97509",
   "metadata": {},
   "outputs": [],
   "source": [
    "# aldy_res = '/data/mengxf/Project/KML250707-cyp2d6-igtk/work/250707-3samples-anlysis/V12/V12.aldy.txt'\n",
    "aldy_res = '/data/mengxf/Project/KML250707-cyp2d6-igtk/work/250707-3samples-anlysis/V22/V22.aldy.txt'\n",
    "# aldy_res = '/data/mengxf/Project/KML250707-cyp2d6-igtk/work/250707-3samples-anlysis/V32/V32.aldy.txt'\n",
    "\n",
    "# 只读第一个 solution\n",
    "records = []\n",
    "with open(aldy_res) as f:\n",
    "    for line in f:\n",
    "        if line.startswith('#Solution 1'):\n",
    "            continue\n",
    "        elif line.startswith('#Solution 2'):\n",
    "            break\n",
    "        else:\n",
    "            records.append(line.split('\\t')[:13])\n",
    "df = pd.DataFrame(records[1:], columns=records[0])[['Copy', 'Allele', 'Location', 'Type', 'Coverage', 'dbSNP']]\n",
    "df = df[df['Coverage'] != '']\n",
    "# df"
   ]
  },
  {
   "cell_type": "code",
   "execution_count": null,
   "id": "1bc779e0",
   "metadata": {},
   "outputs": [
    {
     "name": "stdout",
     "output_type": "stream",
     "text": [
      "CYP2D6 (*10/*122)\n",
      "        Allele       dbSNP  Location Type  Coverage\n",
      "0    CYP2D6*10   rs1135840  42126610  C>G       218\n",
      "3    CYP2D6*10   rs1058164  42129129  C>G       579\n",
      "7    CYP2D6*10   rs1065852  42130691  G>A      1434\n",
      "12  CYP2D6*122  rs61745683  42127511  C>T       336\n"
     ]
    }
   ],
   "source": [
    "df['Coverage'] = df['Coverage'].astype(int)\n",
    "# ! Coverage 过滤阈值 10X\n",
    "df = df[df['Coverage'] >= 10]\n",
    "df['NewAllele'] = '*' + df['Allele'].str.split('.').str[0]\n",
    "# * 过滤掉不在参考中的分型\n",
    "df = df[df['NewAllele'].isin(genotype_rsid_dict)]\n",
    "df['Allele'] = 'CYP2D6' + df['NewAllele']\n",
    "# 输出表格\n",
    "detected_alleles = df['NewAllele'].unique().tolist()\n",
    "detected_alleles_snps = [rsid for alleles in detected_alleles for rsid in genotype_rsid_dict[alleles]]\n",
    "# 去重\n",
    "outdf = df[df['dbSNP'].isin(detected_alleles_snps)][['Allele', 'dbSNP', 'Location', 'Type', 'Coverage']].drop_duplicates()\n",
    "# 输出分型\n",
    "genotype = 'CYP2D6 (*1/*1)'\n",
    "if len(outdf) == 0:\n",
    "    # *1 野生型\n",
    "    genotype = 'CYP2D6 (*1/*1)'\n",
    "else:\n",
    "    unique_copies = df['Copy'].unique()\n",
    "    unique_alleles = df['NewAllele'].unique()\n",
    "    n_copies = len(unique_copies)\n",
    "    n_alleles = len(unique_alleles)\n",
    "    # *5 只有一个拷贝 \n",
    "    if n_copies == 1:\n",
    "        genotype = f'CYP2D6 ({unique_alleles[0]}/*5)'\n",
    "    # 两个拷贝\n",
    "    elif n_copies == 2:\n",
    "        if n_alleles == 1:\n",
    "            # 纯合\n",
    "            genotype = f'CYP2D6 ({unique_alleles[0]}/{unique_alleles[0]})'\n",
    "        elif n_alleles == 2:\n",
    "            # 杂合\n",
    "            genotype = f'CYP2D6 ({unique_alleles[0]}/{unique_alleles[1]})'\n",
    "        else:\n",
    "            raise Exception('分型错误，查看 aldy 文件')\n",
    "    # 多拷贝\n",
    "    elif n_copies > 2:\n",
    "        val_count = df[['Copy', 'NewAllele']].drop_duplicates()['NewAllele'].value_counts()\n",
    "        alleles = [\n",
    "            f'{allele}x{count}' if count > 1 else str(allele)\n",
    "            for allele, count in val_count.items()\n",
    "        ]\n",
    "        genotype = 'CYP2D6 (' + '/'.join(alleles) + ')'\n",
    "# print(genotype)\n",
    "# print(outdf)"
   ]
  },
  {
   "cell_type": "code",
   "execution_count": 132,
   "id": "8f241be7",
   "metadata": {},
   "outputs": [],
   "source": [
    "# 写入结果文件\n",
    "wb = Workbook()\n",
    "ws = wb.active\n",
    "ws.append([f\"Genotype: {genotype}\"])\n",
    "# 空一行\n",
    "ws.append([])\n",
    "# 表头\n",
    "ws.append(outdf.columns.tolist())\n",
    "# 内容\n",
    "for _, row in outdf.iterrows():\n",
    "    ws.append(row.tolist())\n",
    "wb.save(\"test.xlsx\")"
   ]
  },
  {
   "cell_type": "code",
   "execution_count": null,
   "id": "19d64796",
   "metadata": {},
   "outputs": [],
   "source": []
  }
 ],
 "metadata": {
  "kernelspec": {
   "display_name": "python3.12",
   "language": "python",
   "name": "python3"
  },
  "language_info": {
   "codemirror_mode": {
    "name": "ipython",
    "version": 3
   },
   "file_extension": ".py",
   "mimetype": "text/x-python",
   "name": "python",
   "nbconvert_exporter": "python",
   "pygments_lexer": "ipython3",
   "version": "3.12.2"
  }
 },
 "nbformat": 4,
 "nbformat_minor": 5
}
