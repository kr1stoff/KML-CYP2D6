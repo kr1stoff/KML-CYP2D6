{
 "cells": [
  {
   "cell_type": "code",
   "execution_count": 7,
   "id": "e3044035",
   "metadata": {},
   "outputs": [],
   "source": [
    "from pathlib import Path"
   ]
  },
  {
   "cell_type": "markdown",
   "id": "7423c1d2",
   "metadata": {},
   "source": [
    "样本列表"
   ]
  },
  {
   "cell_type": "code",
   "execution_count": 8,
   "id": "2a6c69dc",
   "metadata": {},
   "outputs": [],
   "source": [
    "rawdir = Path(\"/data/share/samba/public/bioinfo/KML250707-cyp2d6-igtk/BX9K256021-T2685V2hg38-20250707123000/Raw/\")\n",
    "# list(rawdir.glob(\"*.fastq.gz\"))\n",
    "sampdict = {}\n",
    "for i in range(1, 4):\n",
    "    name = f\"V{i}2\"\n",
    "    r1 = rawdir / f\"{name}_R1.fastq.gz\"\n",
    "    r2 = rawdir / f\"{name}_R2.fastq.gz\"\n",
    "    # 检查是否存在\n",
    "    # if not all([r1.exists(), r2.exists()]):\n",
    "    #     print(f\"Missing files for {name}: {r1}, {r2}\")\n",
    "    sampdict[name] = (r1, r2)\n",
    "# sampdict"
   ]
  },
  {
   "cell_type": "code",
   "execution_count": 9,
   "id": "34fac9dd",
   "metadata": {},
   "outputs": [],
   "source": [
    "# 批量脚本\n",
    "batchdir = Path('/data/mengxf/Project/KML250707-cyp2d6-igtk/work/250707-3samples-anlysis/scripts/batch')\n",
    "batchdir.mkdir(exist_ok=True, parents=True)\n",
    "\n",
    "# 模板 shell 文件\n",
    "with open('/data/mengxf/Project/KML250707-cyp2d6-igtk/work/250707-3samples-anlysis/scripts/template.sh', 'r') as f:\n",
    "    template = f.read()\n",
    "\n",
    "# 写入每个样本的 shell 文件\n",
    "for name, (r1, r2) in sampdict.items():\n",
    "    outdir = Path('..').resolve().joinpath(name)\n",
    "    with open(batchdir.joinpath(f'{name}.sh'), 'w') as f:\n",
    "        f.write(f'NAME=\"{name}\"\\nREAD1=\"{r1}\"\\nREAD2=\"{r2}\"\\nOUTDIR=\"{outdir}\"\\n')\n",
    "        f.write(template)\n",
    "\n",
    "# 一起运行\n",
    "with open(batchdir.joinpath('run_all.sh'), 'w') as f:\n",
    "    for name in sampdict.keys():\n",
    "        f.write(f'bash {batchdir}/{name}.sh\\n')"
   ]
  },
  {
   "cell_type": "code",
   "execution_count": null,
   "id": "eb6cddb3",
   "metadata": {},
   "outputs": [],
   "source": []
  }
 ],
 "metadata": {
  "kernelspec": {
   "display_name": "python3.12",
   "language": "python",
   "name": "python3"
  },
  "language_info": {
   "codemirror_mode": {
    "name": "ipython",
    "version": 3
   },
   "file_extension": ".py",
   "mimetype": "text/x-python",
   "name": "python",
   "nbconvert_exporter": "python",
   "pygments_lexer": "ipython3",
   "version": "3.12.2"
  }
 },
 "nbformat": 4,
 "nbformat_minor": 5
}
